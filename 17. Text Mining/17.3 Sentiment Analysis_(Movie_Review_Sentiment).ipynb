{
  "nbformat": 4,
  "nbformat_minor": 0,
  "metadata": {
    "colab": {
      "name": "16.3 Sentiment Analysis (Movie Review Sentiment).ipynb",
      "provenance": [],
      "collapsed_sections": [],
      "toc_visible": true
    },
    "kernelspec": {
      "name": "python3",
      "display_name": "Python 3"
    }
  },
  "cells": [
    {
      "cell_type": "markdown",
      "metadata": {
        "id": "G4r1k2C3U1vo"
      },
      "source": [
        "### Extract movie reviews for any movie from IMDB and perform sentimental analysis"
      ]
    },
    {
      "cell_type": "markdown",
      "metadata": {
        "id": "1tCJBeBEVCQh"
      },
      "source": [
        "#### Importing Libearies "
      ]
    },
    {
      "cell_type": "code",
      "metadata": {
        "id": "LWsxFU-PU_j9"
      },
      "source": [
        "import pandas as pd \r\n",
        "import numpy as np \r\n",
        "import matplotlib.pyplot as plt\r\n",
        "import spacy\r\n",
        "import pickle\r\n",
        "from spacy.lang.en.stop_words import STOP_WORDS\r\n",
        "from spacy.lang.en import English\r\n",
        "from sklearn.feature_extraction.text import CountVectorizer,TfidfVectorizer\r\n",
        "from sklearn.base import TransformerMixin \r\n",
        "from sklearn.metrics import confusion_matrix,accuracy_score,classification_report\r\n",
        "from sklearn.pipeline import Pipeline\r\n",
        "from sklearn.svm import LinearSVC\r\n",
        "from sklearn.linear_model import LogisticRegression\r\n",
        "from sklearn.ensemble import RandomForestClassifier\r\n",
        "from sklearn.model_selection import train_test_split\r\n",
        "import csv\r\n",
        "import string"
      ],
      "execution_count": null,
      "outputs": []
    },
    {
      "cell_type": "markdown",
      "metadata": {
        "id": "Qu1MHVElWdoC"
      },
      "source": [
        "#### Importing Dataset"
      ]
    },
    {
      "cell_type": "code",
      "metadata": {
        "id": "uG_u4KLxZh_z"
      },
      "source": [
        ""
      ],
      "execution_count": null,
      "outputs": []
    },
    {
      "cell_type": "code",
      "metadata": {
        "id": "46Yog0CQVJBm"
      },
      "source": [
        "dataset = pd.read_csv('/content/IMDB Dataset.csv',encoding='ISO-8859-1') "
      ],
      "execution_count": null,
      "outputs": []
    },
    {
      "cell_type": "code",
      "metadata": {
        "colab": {
          "base_uri": "https://localhost:8080/",
          "height": 204
        },
        "id": "Zf6WmxlCYGx8",
        "outputId": "876d0cf5-739a-4755-90b5-625757f5a959"
      },
      "source": [
        "dataset.head() "
      ],
      "execution_count": null,
      "outputs": [
        {
          "output_type": "execute_result",
          "data": {
            "text/html": [
              "<div>\n",
              "<style scoped>\n",
              "    .dataframe tbody tr th:only-of-type {\n",
              "        vertical-align: middle;\n",
              "    }\n",
              "\n",
              "    .dataframe tbody tr th {\n",
              "        vertical-align: top;\n",
              "    }\n",
              "\n",
              "    .dataframe thead th {\n",
              "        text-align: right;\n",
              "    }\n",
              "</style>\n",
              "<table border=\"1\" class=\"dataframe\">\n",
              "  <thead>\n",
              "    <tr style=\"text-align: right;\">\n",
              "      <th></th>\n",
              "      <th>review</th>\n",
              "      <th>sentiment</th>\n",
              "    </tr>\n",
              "  </thead>\n",
              "  <tbody>\n",
              "    <tr>\n",
              "      <th>0</th>\n",
              "      <td>One of the other reviewers has mentioned that ...</td>\n",
              "      <td>positive</td>\n",
              "    </tr>\n",
              "    <tr>\n",
              "      <th>1</th>\n",
              "      <td>A wonderful little production. &lt;br /&gt;&lt;br /&gt;The...</td>\n",
              "      <td>positive</td>\n",
              "    </tr>\n",
              "    <tr>\n",
              "      <th>2</th>\n",
              "      <td>I thought this was a wonderful way to spend ti...</td>\n",
              "      <td>positive</td>\n",
              "    </tr>\n",
              "    <tr>\n",
              "      <th>3</th>\n",
              "      <td>Basically there's a family where a little boy ...</td>\n",
              "      <td>negative</td>\n",
              "    </tr>\n",
              "    <tr>\n",
              "      <th>4</th>\n",
              "      <td>Petter Mattei's \"Love in the Time of Money\" is...</td>\n",
              "      <td>positive</td>\n",
              "    </tr>\n",
              "  </tbody>\n",
              "</table>\n",
              "</div>"
            ],
            "text/plain": [
              "                                              review sentiment\n",
              "0  One of the other reviewers has mentioned that ...  positive\n",
              "1  A wonderful little production. <br /><br />The...  positive\n",
              "2  I thought this was a wonderful way to spend ti...  positive\n",
              "3  Basically there's a family where a little boy ...  negative\n",
              "4  Petter Mattei's \"Love in the Time of Money\" is...  positive"
            ]
          },
          "metadata": {
            "tags": []
          },
          "execution_count": 18
        }
      ]
    },
    {
      "cell_type": "code",
      "metadata": {
        "colab": {
          "base_uri": "https://localhost:8080/"
        },
        "id": "snj3RJ4Vcnti",
        "outputId": "a060d039-234c-4108-f277-1bbe18d8056e"
      },
      "source": [
        "print(f'Rows: {dataset.shape[1]}\\nColumns: {dataset.shape[0]}') "
      ],
      "execution_count": null,
      "outputs": [
        {
          "output_type": "stream",
          "text": [
            "Rows: 2\n",
            "Columns: 50000\n"
          ],
          "name": "stdout"
        }
      ]
    },
    {
      "cell_type": "code",
      "metadata": {
        "colab": {
          "base_uri": "https://localhost:8080/"
        },
        "id": "4aiQSlkmc0CW",
        "outputId": "cdbf2a5d-cb2c-4c3a-c5df-e0642414b15d"
      },
      "source": [
        "print(f'Columns Names: {list(dataset.columns)}')"
      ],
      "execution_count": null,
      "outputs": [
        {
          "output_type": "stream",
          "text": [
            "Columns Names: ['review', 'sentiment']\n"
          ],
          "name": "stdout"
        }
      ]
    },
    {
      "cell_type": "markdown",
      "metadata": {
        "id": "eqgxJBuHc-UN"
      },
      "source": [
        "#### Text Operation"
      ]
    },
    {
      "cell_type": "code",
      "metadata": {
        "id": "XPMWSVTSc6og"
      },
      "source": [
        "nlp = English()\r\n",
        "stopwords = list(STOP_WORDS)\r\n",
        "punctuations = string.punctuation"
      ],
      "execution_count": null,
      "outputs": []
    },
    {
      "cell_type": "code",
      "metadata": {
        "id": "vf_q7dgudGaK"
      },
      "source": [
        "def tokenizer(sentence):\r\n",
        "    mytokens = nlp(sentence)\r\n",
        "    mytokens = [ word.lemma_.lower().strip() if word.lemma_ != \"-PRON-\" else word.lower_ for word in mytokens ]\r\n",
        "    mytokens = [ word for word in mytokens if word not in stopwords and word not in punctuations ]\r\n",
        "    return mytokens"
      ],
      "execution_count": null,
      "outputs": []
    },
    {
      "cell_type": "markdown",
      "metadata": {
        "id": "FW46urmUdauD"
      },
      "source": [
        "#### Transformation and Vectorization"
      ]
    },
    {
      "cell_type": "code",
      "metadata": {
        "id": "9JOOgZScdUVm"
      },
      "source": [
        "class predictors(TransformerMixin):\r\n",
        "    def transform(self, X, **transform_params):\r\n",
        "        return [clean_text(text) for text in X]\r\n",
        "    def fit(self, X, y, **fit_params):\r\n",
        "        return self\r\n",
        "    def get_params(self, deep=True):\r\n",
        "        return {}"
      ],
      "execution_count": null,
      "outputs": []
    },
    {
      "cell_type": "markdown",
      "metadata": {
        "id": "-Gbvp0kVdmak"
      },
      "source": [
        "#### Basic function to clean the text "
      ]
    },
    {
      "cell_type": "code",
      "metadata": {
        "id": "53hIHgN3di5P"
      },
      "source": [
        "def clean_text(text):     \r\n",
        "    return text.strip().lower()"
      ],
      "execution_count": null,
      "outputs": []
    },
    {
      "cell_type": "code",
      "metadata": {
        "id": "swrooDz_dtQk"
      },
      "source": [
        "vectorizer = CountVectorizer(tokenizer = tokenizer, ngram_range=(1,1)) \r\n",
        "tfvectorizer = TfidfVectorizer(tokenizer = tokenizer)"
      ],
      "execution_count": null,
      "outputs": []
    },
    {
      "cell_type": "markdown",
      "metadata": {
        "id": "8ati3V8Md2Bs"
      },
      "source": [
        "#### Split the Dataset"
      ]
    },
    {
      "cell_type": "code",
      "metadata": {
        "id": "9lGB3rgJdy9M"
      },
      "source": [
        "X = dataset['review']\r\n",
        "y = dataset['sentiment']\r\n",
        "X_train, X_test, y_train, y_test = train_test_split(X, y, test_size=0.2, random_state=77)"
      ],
      "execution_count": null,
      "outputs": []
    },
    {
      "cell_type": "markdown",
      "metadata": {
        "id": "c1AeX-2WeCBl"
      },
      "source": [
        "#### Logistic Regression"
      ]
    },
    {
      "cell_type": "code",
      "metadata": {
        "id": "zcDgv3YYd-W_"
      },
      "source": [
        "classifier = LogisticRegression()\r\n",
        "LRmodel = Pipeline([(\"cleaner\", predictors()),\r\n",
        "                 ('vectorizer', vectorizer),\r\n",
        "                 ('classifier', classifier)])"
      ],
      "execution_count": null,
      "outputs": []
    },
    {
      "cell_type": "markdown",
      "metadata": {
        "id": "aV8JAaTPeLEM"
      },
      "source": [
        "#### Train the Model"
      ]
    },
    {
      "cell_type": "code",
      "metadata": {
        "colab": {
          "base_uri": "https://localhost:8080/"
        },
        "id": "H0HCVOq0eJqK",
        "outputId": "d91bdc87-f2b0-4be0-8cfc-391c3653de2c"
      },
      "source": [
        "LRmodel.fit(X_train,y_train)   \r\n"
      ],
      "execution_count": null,
      "outputs": [
        {
          "output_type": "stream",
          "text": [
            "/usr/local/lib/python3.6/dist-packages/sklearn/linear_model/_logistic.py:940: ConvergenceWarning: lbfgs failed to converge (status=1):\n",
            "STOP: TOTAL NO. of ITERATIONS REACHED LIMIT.\n",
            "\n",
            "Increase the number of iterations (max_iter) or scale the data as shown in:\n",
            "    https://scikit-learn.org/stable/modules/preprocessing.html\n",
            "Please also refer to the documentation for alternative solver options:\n",
            "    https://scikit-learn.org/stable/modules/linear_model.html#logistic-regression\n",
            "  extra_warning_msg=_LOGISTIC_SOLVER_CONVERGENCE_MSG)\n"
          ],
          "name": "stderr"
        }
      ]
    },
    {
      "cell_type": "markdown",
      "metadata": {
        "id": "n-HY_cwkp3zA"
      },
      "source": [
        "#### Predict the test set"
      ]
    },
    {
      "cell_type": "code",
      "metadata": {
        "id": "MfyZbTJzp_vs"
      },
      "source": [
        "LRpred = LRmodel.predict(X_test)"
      ],
      "execution_count": null,
      "outputs": []
    },
    {
      "cell_type": "markdown",
      "metadata": {
        "id": "Tp9rfrnTf4D4"
      },
      "source": [
        "#### Confusion Matrix"
      ]
    },
    {
      "cell_type": "code",
      "metadata": {
        "id": "-312DoXreV9T"
      },
      "source": [
        "cm = confusion_matrix(y_test,LRpred)"
      ],
      "execution_count": null,
      "outputs": []
    },
    {
      "cell_type": "code",
      "metadata": {
        "colab": {
          "base_uri": "https://localhost:8080/"
        },
        "id": "OLKg0bFUhV6v",
        "outputId": "27f57bca-7d24-4b7f-bfba-dc3b1389059e"
      },
      "source": [
        "cm"
      ],
      "execution_count": null,
      "outputs": [
        {
          "output_type": "execute_result",
          "data": {
            "text/plain": [
              "array([[4458,  593],\n",
              "       [ 501, 4448]])"
            ]
          },
          "metadata": {
            "tags": []
          },
          "execution_count": 34
        }
      ]
    },
    {
      "cell_type": "markdown",
      "metadata": {
        "id": "MRYSF4RXhaSh"
      },
      "source": [
        "#### Accuracy Score "
      ]
    },
    {
      "cell_type": "code",
      "metadata": {
        "id": "L4NlT95ghXSV"
      },
      "source": [
        "ac = accuracy_score(y_test,LRpred) "
      ],
      "execution_count": null,
      "outputs": []
    },
    {
      "cell_type": "code",
      "metadata": {
        "colab": {
          "base_uri": "https://localhost:8080/"
        },
        "id": "Sv6g7JzBhnuX",
        "outputId": "a2a12d74-5a32-4c37-a0a4-e19eb95f33a9"
      },
      "source": [
        "ac "
      ],
      "execution_count": null,
      "outputs": [
        {
          "output_type": "execute_result",
          "data": {
            "text/plain": [
              "0.8906"
            ]
          },
          "metadata": {
            "tags": []
          },
          "execution_count": 36
        }
      ]
    },
    {
      "cell_type": "markdown",
      "metadata": {
        "id": "doa8Gc0ziHH4"
      },
      "source": [
        "#### Classification Report"
      ]
    },
    {
      "cell_type": "code",
      "metadata": {
        "id": "h8GcvJBChpnH"
      },
      "source": [
        "cr = classification_report(y_test,LRpred) "
      ],
      "execution_count": null,
      "outputs": []
    },
    {
      "cell_type": "code",
      "metadata": {
        "colab": {
          "base_uri": "https://localhost:8080/",
          "height": 69
        },
        "id": "_egm7xP4iT7q",
        "outputId": "a977c6f0-bfe8-46d0-f4bd-db65762320e3"
      },
      "source": [
        "cr"
      ],
      "execution_count": null,
      "outputs": [
        {
          "output_type": "execute_result",
          "data": {
            "application/vnd.google.colaboratory.intrinsic+json": {
              "type": "string"
            },
            "text/plain": [
              "'              precision    recall  f1-score   support\\n\\n    negative       0.90      0.88      0.89      5051\\n    positive       0.88      0.90      0.89      4949\\n\\n    accuracy                           0.89     10000\\n   macro avg       0.89      0.89      0.89     10000\\nweighted avg       0.89      0.89      0.89     10000\\n'"
            ]
          },
          "metadata": {
            "tags": []
          },
          "execution_count": 39
        }
      ]
    },
    {
      "cell_type": "markdown",
      "metadata": {
        "id": "DNkHneEbinTn"
      },
      "source": [
        "#### random review Test"
      ]
    },
    {
      "cell_type": "code",
      "metadata": {
        "colab": {
          "base_uri": "https://localhost:8080/"
        },
        "id": "QcgZZNVEiU-3",
        "outputId": "27628ff4-9802-421d-eb11-44369efe517d"
      },
      "source": [
        "pre = LRmodel.predict([\"Production has an incredibly important place to shoot a series or film. Sometimes even a very minimalist story can reach an incredibly successful point after the right production stages. The Witcher series is far from minimalist. The Witcher is one of the best Middle-earth works in the world. Production quality is essential if you want to handle such a topic successfully.\"])\r\n",
        "print(f'Prediction: {pre[0]}') "
      ],
      "execution_count": null,
      "outputs": [
        {
          "output_type": "stream",
          "text": [
            "Prediction: positive\n"
          ],
          "name": "stdout"
        }
      ]
    },
    {
      "cell_type": "markdown",
      "metadata": {
        "id": "QHOWSUprjCGs"
      },
      "source": [
        "### Random Forest"
      ]
    },
    {
      "cell_type": "code",
      "metadata": {
        "id": "UgeA7omRiyU_"
      },
      "source": [
        "RFclassifier = RandomForestClassifier(n_estimators = 200)\r\n",
        "RFmodel = Pipeline([(\"cleaner\", predictors()),\r\n",
        "                 ('vectorizer', vectorizer),\r\n",
        "                 ('classifier', RFclassifier)])"
      ],
      "execution_count": null,
      "outputs": []
    },
    {
      "cell_type": "markdown",
      "metadata": {
        "id": "3u6uEIePjPBN"
      },
      "source": [
        "#### Train the Model"
      ]
    },
    {
      "cell_type": "code",
      "metadata": {
        "colab": {
          "base_uri": "https://localhost:8080/"
        },
        "id": "EUNhcgsAjLh9",
        "outputId": "57aae0ae-3129-4abd-eb0d-c625cfd79a57"
      },
      "source": [
        "RFmodel.fit(X_train,y_train)   "
      ],
      "execution_count": null,
      "outputs": [
        {
          "output_type": "execute_result",
          "data": {
            "text/plain": [
              "Pipeline(memory=None,\n",
              "         steps=[('cleaner', <__main__.predictors object at 0x7f2489bac9e8>),\n",
              "                ('vectorizer',\n",
              "                 CountVectorizer(analyzer='word', binary=False,\n",
              "                                 decode_error='strict',\n",
              "                                 dtype=<class 'numpy.int64'>, encoding='utf-8',\n",
              "                                 input='content', lowercase=True, max_df=1.0,\n",
              "                                 max_features=None, min_df=1,\n",
              "                                 ngram_range=(1, 1), preprocessor=None,\n",
              "                                 stop_words=None, strip_accents=None,\n",
              "                                 t...\n",
              "                 RandomForestClassifier(bootstrap=True, ccp_alpha=0.0,\n",
              "                                        class_weight=None, criterion='gini',\n",
              "                                        max_depth=None, max_features='auto',\n",
              "                                        max_leaf_nodes=None, max_samples=None,\n",
              "                                        min_impurity_decrease=0.0,\n",
              "                                        min_impurity_split=None,\n",
              "                                        min_samples_leaf=1, min_samples_split=2,\n",
              "                                        min_weight_fraction_leaf=0.0,\n",
              "                                        n_estimators=200, n_jobs=None,\n",
              "                                        oob_score=False, random_state=None,\n",
              "                                        verbose=0, warm_start=False))],\n",
              "         verbose=False)"
            ]
          },
          "metadata": {
            "tags": []
          },
          "execution_count": 43
        }
      ]
    },
    {
      "cell_type": "markdown",
      "metadata": {
        "id": "tptNNt6Cl3oZ"
      },
      "source": [
        "#### Predict the test set"
      ]
    },
    {
      "cell_type": "code",
      "metadata": {
        "id": "terQfylCl7hJ"
      },
      "source": [
        "RFpred = RFmodel.predict(X_test)"
      ],
      "execution_count": null,
      "outputs": []
    },
    {
      "cell_type": "markdown",
      "metadata": {
        "id": "QWE07d83lg0a"
      },
      "source": [
        "#### Confusion Matrix "
      ]
    },
    {
      "cell_type": "code",
      "metadata": {
        "id": "pFQvsMNgjZbT"
      },
      "source": [
        "cm = confusion_matrix(y_test,RFpred)"
      ],
      "execution_count": null,
      "outputs": []
    },
    {
      "cell_type": "code",
      "metadata": {
        "colab": {
          "base_uri": "https://localhost:8080/"
        },
        "id": "62wbC3iMlzCZ",
        "outputId": "9ee0812b-a151-415b-d261-d222591bc39c"
      },
      "source": [
        "cm"
      ],
      "execution_count": null,
      "outputs": [
        {
          "output_type": "execute_result",
          "data": {
            "text/plain": [
              "array([[4360,  691],\n",
              "       [ 607, 4342]])"
            ]
          },
          "metadata": {
            "tags": []
          },
          "execution_count": 47
        }
      ]
    },
    {
      "cell_type": "markdown",
      "metadata": {
        "id": "HJu_kWjfmhlR"
      },
      "source": [
        "#### Accuracy Score"
      ]
    },
    {
      "cell_type": "code",
      "metadata": {
        "id": "kxhqNjjQmcXm"
      },
      "source": [
        "ac = accuracy_score(y_test,RFpred) "
      ],
      "execution_count": null,
      "outputs": []
    },
    {
      "cell_type": "code",
      "metadata": {
        "colab": {
          "base_uri": "https://localhost:8080/"
        },
        "id": "vGsqZxKfmgS3",
        "outputId": "0baa5b53-1a7f-469c-ba07-dcae7b8e51a2"
      },
      "source": [
        "ac"
      ],
      "execution_count": null,
      "outputs": [
        {
          "output_type": "execute_result",
          "data": {
            "text/plain": [
              "0.8702"
            ]
          },
          "metadata": {
            "tags": []
          },
          "execution_count": 50
        }
      ]
    },
    {
      "cell_type": "markdown",
      "metadata": {
        "id": "I098jjmKm3p2"
      },
      "source": [
        "#### Classification Report"
      ]
    },
    {
      "cell_type": "code",
      "metadata": {
        "id": "mRzPm_0mmxTf"
      },
      "source": [
        "cr = classification_report(y_test,RFpred) "
      ],
      "execution_count": null,
      "outputs": []
    },
    {
      "cell_type": "code",
      "metadata": {
        "colab": {
          "base_uri": "https://localhost:8080/",
          "height": 69
        },
        "id": "k-HUxGkAnFQi",
        "outputId": "c8af9efd-532f-44ed-e5ad-5a1e6526cd5a"
      },
      "source": [
        "cr"
      ],
      "execution_count": null,
      "outputs": [
        {
          "output_type": "execute_result",
          "data": {
            "application/vnd.google.colaboratory.intrinsic+json": {
              "type": "string"
            },
            "text/plain": [
              "'              precision    recall  f1-score   support\\n\\n    negative       0.88      0.86      0.87      5051\\n    positive       0.86      0.88      0.87      4949\\n\\n    accuracy                           0.87     10000\\n   macro avg       0.87      0.87      0.87     10000\\nweighted avg       0.87      0.87      0.87     10000\\n'"
            ]
          },
          "metadata": {
            "tags": []
          },
          "execution_count": 52
        }
      ]
    },
    {
      "cell_type": "markdown",
      "metadata": {
        "id": "_AWHp1hjnOUP"
      },
      "source": [
        "#### random review test"
      ]
    },
    {
      "cell_type": "code",
      "metadata": {
        "colab": {
          "base_uri": "https://localhost:8080/"
        },
        "id": "HtXXe9YenGOv",
        "outputId": "82b7d62a-48dc-417b-fd57-0d0d5a11cc7f"
      },
      "source": [
        "pre = RFmodel.predict([\"I think this is my first review. This series is so bad I had to write one. I don't understand the good score. I have tried on 2 separate occasions to watch this show. Haven't even gotten past the 2nd episode because it is SO BORING.\"])\r\n",
        "print(f'Prediction: {pre[0]}')"
      ],
      "execution_count": null,
      "outputs": [
        {
          "output_type": "stream",
          "text": [
            "Prediction: negative\n"
          ],
          "name": "stdout"
        }
      ]
    },
    {
      "cell_type": "markdown",
      "metadata": {
        "id": "lrB5854yncUP"
      },
      "source": [
        "### LinearSVC"
      ]
    },
    {
      "cell_type": "code",
      "metadata": {
        "id": "Fbu2-HxhnWEd"
      },
      "source": [
        "SVCclassifier = LinearSVC()\r\n",
        "SVCmodel = Pipeline([(\"cleaner\", predictors()),\r\n",
        "                 ('vectorizer', vectorizer),\r\n",
        "                 ('classifier', SVCclassifier)])"
      ],
      "execution_count": null,
      "outputs": []
    },
    {
      "cell_type": "markdown",
      "metadata": {
        "id": "8ZwvYHornklI"
      },
      "source": [
        "#### Train the Model"
      ]
    },
    {
      "cell_type": "code",
      "metadata": {
        "colab": {
          "base_uri": "https://localhost:8080/"
        },
        "id": "-zsK91Bgnjfs",
        "outputId": "431a3630-f133-4f5e-d505-651acebd2b62"
      },
      "source": [
        "SVCmodel.fit(X_train,y_train)"
      ],
      "execution_count": null,
      "outputs": [
        {
          "output_type": "stream",
          "text": [
            "/usr/local/lib/python3.6/dist-packages/sklearn/svm/_base.py:947: ConvergenceWarning: Liblinear failed to converge, increase the number of iterations.\n",
            "  \"the number of iterations.\", ConvergenceWarning)\n"
          ],
          "name": "stderr"
        },
        {
          "output_type": "execute_result",
          "data": {
            "text/plain": [
              "Pipeline(memory=None,\n",
              "         steps=[('cleaner', <__main__.predictors object at 0x7f2489067cc0>),\n",
              "                ('vectorizer',\n",
              "                 CountVectorizer(analyzer='word', binary=False,\n",
              "                                 decode_error='strict',\n",
              "                                 dtype=<class 'numpy.int64'>, encoding='utf-8',\n",
              "                                 input='content', lowercase=True, max_df=1.0,\n",
              "                                 max_features=None, min_df=1,\n",
              "                                 ngram_range=(1, 1), preprocessor=None,\n",
              "                                 stop_words=None, strip_accents=None,\n",
              "                                 token_pattern='(?u)\\\\b\\\\w\\\\w+\\\\b',\n",
              "                                 tokenizer=<function tokenizer at 0x7f248c005510>,\n",
              "                                 vocabulary=None)),\n",
              "                ('classifier',\n",
              "                 LinearSVC(C=1.0, class_weight=None, dual=True,\n",
              "                           fit_intercept=True, intercept_scaling=1,\n",
              "                           loss='squared_hinge', max_iter=1000,\n",
              "                           multi_class='ovr', penalty='l2', random_state=None,\n",
              "                           tol=0.0001, verbose=0))],\n",
              "         verbose=False)"
            ]
          },
          "metadata": {
            "tags": []
          },
          "execution_count": 55
        }
      ]
    },
    {
      "cell_type": "markdown",
      "metadata": {
        "id": "wSi9VeoCnuJN"
      },
      "source": [
        "#### Predict the test set Result"
      ]
    },
    {
      "cell_type": "code",
      "metadata": {
        "id": "RYDOjO2KnrzD"
      },
      "source": [
        "SVCpred = SVCmodel.predict(X_test)"
      ],
      "execution_count": null,
      "outputs": []
    },
    {
      "cell_type": "markdown",
      "metadata": {
        "id": "RksQ2CM_oScy"
      },
      "source": [
        "#### Confusion Matrix"
      ]
    },
    {
      "cell_type": "code",
      "metadata": {
        "id": "bt9hp2jToQKy"
      },
      "source": [
        "cm = confusion_matrix(y_test,SVCpred)"
      ],
      "execution_count": null,
      "outputs": []
    },
    {
      "cell_type": "code",
      "metadata": {
        "colab": {
          "base_uri": "https://localhost:8080/"
        },
        "id": "PjyOndmIohS6",
        "outputId": "bd4853d2-6949-4a7a-fb49-6cb735259525"
      },
      "source": [
        "cm"
      ],
      "execution_count": null,
      "outputs": [
        {
          "output_type": "execute_result",
          "data": {
            "text/plain": [
              "array([[4364,  687],\n",
              "       [ 591, 4358]])"
            ]
          },
          "metadata": {
            "tags": []
          },
          "execution_count": 58
        }
      ]
    },
    {
      "cell_type": "markdown",
      "metadata": {
        "id": "uVWJkIsSojxy"
      },
      "source": [
        ""
      ]
    },
    {
      "cell_type": "markdown",
      "metadata": {
        "id": "aUvHJmpToj0u"
      },
      "source": [
        "#### Accuracy atrix"
      ]
    },
    {
      "cell_type": "code",
      "metadata": {
        "id": "Qfwx8QDwoiSV"
      },
      "source": [
        "ac = accuracy_score(y_test,SVCpred)"
      ],
      "execution_count": null,
      "outputs": []
    },
    {
      "cell_type": "code",
      "metadata": {
        "colab": {
          "base_uri": "https://localhost:8080/"
        },
        "id": "E1W1rLPdovCg",
        "outputId": "9b0c8eeb-6d32-4de1-ec13-e383f8a85f70"
      },
      "source": [
        "ac"
      ],
      "execution_count": null,
      "outputs": [
        {
          "output_type": "execute_result",
          "data": {
            "text/plain": [
              "0.8722"
            ]
          },
          "metadata": {
            "tags": []
          },
          "execution_count": 60
        }
      ]
    },
    {
      "cell_type": "markdown",
      "metadata": {
        "id": "sAIE_1qxoxXG"
      },
      "source": [
        "#### Classification Report"
      ]
    },
    {
      "cell_type": "code",
      "metadata": {
        "id": "oNBlhDzSov1p"
      },
      "source": [
        "cr = classification_report(y_test,SVCpred) "
      ],
      "execution_count": null,
      "outputs": []
    },
    {
      "cell_type": "code",
      "metadata": {
        "colab": {
          "base_uri": "https://localhost:8080/",
          "height": 69
        },
        "id": "cdsPjpq0pAGS",
        "outputId": "3ac0adf2-d458-46f5-d660-8c59abc322af"
      },
      "source": [
        "cr"
      ],
      "execution_count": null,
      "outputs": [
        {
          "output_type": "execute_result",
          "data": {
            "application/vnd.google.colaboratory.intrinsic+json": {
              "type": "string"
            },
            "text/plain": [
              "'              precision    recall  f1-score   support\\n\\n    negative       0.88      0.86      0.87      5051\\n    positive       0.86      0.88      0.87      4949\\n\\n    accuracy                           0.87     10000\\n   macro avg       0.87      0.87      0.87     10000\\nweighted avg       0.87      0.87      0.87     10000\\n'"
            ]
          },
          "metadata": {
            "tags": []
          },
          "execution_count": 62
        }
      ]
    },
    {
      "cell_type": "markdown",
      "metadata": {
        "id": "ksabV9KbpCYH"
      },
      "source": [
        "#### Random Review Test"
      ]
    },
    {
      "cell_type": "code",
      "metadata": {
        "colab": {
          "base_uri": "https://localhost:8080/"
        },
        "id": "VKcwtn5ApBD3",
        "outputId": "1347b89c-9b01-4de0-d484-45f24a556dd0"
      },
      "source": [
        "pre = SVCmodel.predict([\"Henry cavill nailed the role perfectly. The fight scenes, the music, the cinematography, the whole atmosphere is beyond amazing. Netflix did it again\"])\r\n",
        "print(f'Prediction: {pre[0]}')"
      ],
      "execution_count": null,
      "outputs": [
        {
          "output_type": "stream",
          "text": [
            "Prediction: positive\n"
          ],
          "name": "stdout"
        }
      ]
    },
    {
      "cell_type": "markdown",
      "metadata": {
        "id": "JLQxESripgQU"
      },
      "source": [
        "#### Colclusion"
      ]
    },
    {
      "cell_type": "markdown",
      "metadata": {
        "id": "MTlIUSAcpkcz"
      },
      "source": [
        "The accuracy of all the algorithm is nearly the same and Logistic Regression accuracy is best among them with an accuracy of 88.97%"
      ]
    },
    {
      "cell_type": "code",
      "metadata": {
        "id": "VsfYrJX9pWps"
      },
      "source": [
        ""
      ],
      "execution_count": null,
      "outputs": []
    }
  ]
}